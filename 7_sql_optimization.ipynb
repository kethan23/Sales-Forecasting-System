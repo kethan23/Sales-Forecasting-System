{
 "cells": [
  {"cell_type":"markdown","metadata":{},"source":["# SQL Optimization for Sales Data\n","Efficient queries and indexing strategies for large sales datasets."]},
  {"cell_type":"code","execution_count":null,"metadata":{},"source":["import sqlite3, os, pandas as pd, numpy as np\n","db_path = 'sales.db'\n","conn = sqlite3.connect(db_path)\n","cur = conn.cursor()\n","# Example schema\n","cur.execute('CREATE TABLE IF NOT EXISTS sales(date TEXT, region TEXT, product TEXT, quantity INT, price REAL);')\n","conn.commit()\n","# Example index creation\n","cur.execute('CREATE INDEX IF NOT EXISTS idx_sales_date ON sales(date);')\n","cur.execute('CREATE INDEX IF NOT EXISTS idx_sales_region ON sales(region);')\n","cur.execute('CREATE INDEX IF NOT EXISTS idx_sales_product ON sales(product);')\n","conn.commit()\n","# Optimized aggregation query\n","query = '''\n","SELECT substr(date,1,7) AS month, region, SUM(quantity*price) AS revenue\n","FROM sales\n","GROUP BY month, region\n","ORDER BY month ASC;\n","'''\n","df = pd.read_sql_query(query, conn)\n","print(df.head())\n"]}
 ],
 "metadata": {"kernelspec":{"display_name":"Python 3","language":"python","name":"python3"},"language_info":{"name":"python","version":"3.8.0"}},
 "nbformat":4,
 "nbformat_minor":4
}
