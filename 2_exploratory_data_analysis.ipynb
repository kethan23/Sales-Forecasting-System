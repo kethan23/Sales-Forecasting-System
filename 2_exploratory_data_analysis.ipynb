{
 "cells": [
  {
   "cell_type": "markdown",
   "metadata": {},
   "source": [
    "# Sales Forecasting System - Exploratory Data Analysis (EDA)\n",
    "\n",
    "This notebook explores the cleaned sales dataset to uncover insights, trends, and relationships between features."
   ]
  },
  {
   "cell_type": "code",
   "execution_count": null,
   "metadata": {},
   "source": [
    "import pandas as pd\n",
    "import numpy as np\n",
    "import matplotlib.pyplot as plt\n",
    "import seaborn as sns\n",
    "plt.style.use('seaborn-v0_8')\n",
    "\n",
    "# df = pd.read_csv('cleaned_sales_data.csv')\n",
    "# For demonstration, regenerate a dataset similar to cleaned output\n",
    "np.random.seed(42)\n",
    "dates = pd.date_range('2020-01-01', '2023-12-31', freq='D')\n",
    "df = pd.DataFrame({\n",
    "    'date': dates,\n",
    "    'sales': np.random.normal(5000, 1500, len(dates)).clip(0),\n",
    "    'quantity': np.random.randint(50, 500, len(dates)),\n",
    "    'price': np.random.uniform(10, 100, len(dates)),\n",
    "    'region': np.random.choice(['North', 'South', 'East', 'West'], len(dates)),\n",
    "    'product_category': np.random.choice(['Electronics', 'Clothing', 'Food', 'Books'], len(dates))\n",
    "})\n",
    "df['date'] = pd.to_datetime(df['date'])\n",
    "df['month'] = df['date'].dt.to_period('M').dt.to_timestamp()\n",
    "df['dayofweek'] = df['date'].dt.dayofweek\n",
    "df['weekofyear'] = df['date'].dt.isocalendar().week.astype(int)\n",
    "df.head()"
   ],
   "outputs": []
  },
  {
   "cell_type": "markdown",
   "metadata": {},
   "source": [
    "## Summary Statistics & Missingness"
   ]
  },
  {
   "cell_type": "code",
   "execution_count": null,
   "metadata": {},
   "source": [
    "df.describe(include='all')"
   ],
   "outputs": []
  },
  {
   "cell_type": "code",
   "execution_count": null,
   "metadata": {},
   "source": [
    "sns.pairplot(df[['sales','quantity','price']].sample(500))\n",
    "plt.suptitle('Pairplot of Numerical Features', y=1.02)\n",
    "plt.show()"
   ],
   "outputs": []
  },
  {
   "cell_type": "markdown",
   "metadata": {},
   "source": [
    "## Seasonal Patterns"
   ]
  },
  {
   "cell_type": "code",
   "execution_count": null,
   "metadata": {},
   "source": [
    "monthly = df.groupby('month').agg({'sales':'sum','quantity':'sum'}).reset_index()\n",
    "fig, ax = plt.subplots(2,1, figsize=(12,8), sharex=True)\n",
    "ax[0].plot(monthly['month'], monthly['sales'], marker='o'); ax[0].set_title('Monthly Sales');\n",
    "ax[1].plot(monthly['month'], monthly['quantity'], color='orange', marker='o'); ax[1].set_title('Monthly Quantity');\n",
    "plt.tight_layout(); plt.show()"
   ],
   "outputs": []
  },
  {
   "cell_type": "markdown",
   "metadata": {},
   "source": [
    "## Category and Region Insights"
   ]
  },
  {
   "cell_type": "code",
   "execution_count": null,
   "metadata": {},
   "source": [
    "plt.figure(figsize=(12,4))\n",
    "sns.barplot(x='product_category', y='sales', data=df, estimator=sum, ci=None)\n",
    "plt.title('Total Sales by Product Category'); plt.show()\n",
    "\n",
    "plt.figure(figsize=(12,4))\n",
    "sns.barplot(x='region', y='sales', data=df, estimator=sum, ci=None)\n",
    "plt.title('Total Sales by Region'); plt.show()"
   ],
   "outputs": []
  },
  {
   "cell_type": "markdown",
   "metadata": {},
   "source": [
    "## Correlations"
   ]
  },
  {
   "cell_type": "code",
   "execution_count": null,
   "metadata": {},
   "source": [
    "corr = df[['sales','quantity','price']].corr()\n",
    "plt.figure(figsize=(5,4)); sns.heatmap(corr, annot=True, cmap='Blues', vmin=-1, vmax=1); plt.title('Correlation Heatmap'); plt.show()"
   ],
   "outputs": []
  }
 ],
 "metadata": {
  "kernelspec": {"display_name":"Python 3","language":"python","name":"python3"},
  "language_info": {"name":"python","version":"3.8.0"}
 },
 "nbformat": 4,
 "nbformat_minor": 4
}
