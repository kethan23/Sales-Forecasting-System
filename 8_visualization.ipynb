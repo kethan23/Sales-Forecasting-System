{
 "cells": [
  {"cell_type":"markdown","metadata":{},"source":["# Visualization & Dashboards\n","Visualize sales trends, forecasts, and model performance."]},
  {"cell_type":"code","execution_count":null,"metadata":{},"source":["import pandas as pd\nimport numpy as np\nimport matplotlib.pyplot as plt\nimport seaborn as sns\nimport plotly.express as px\nplt.style.use('seaborn-v0_8')\n\n# Demo data\ndates = pd.date_range('2022-01-01','2023-12-31')\nnp.random.seed(42)\nactual = np.random.normal(5000, 1200, len(dates)).clip(0)\npred = actual * np.random.uniform(0.95,1.05,len(dates))\ndf = pd.DataFrame({'date':dates,'actual':actual,'forecast':pred})\n"]},
  {"cell_type":"code","execution_count":null,"metadata":{},"source":["# Line chart of actual vs forecast\nfig, ax = plt.subplots(figsize=(12,5))\nax.plot(df['date'], df['actual'], label='Actual', alpha=0.8)\nax.plot(df['date'], df['forecast'], label='Forecast', alpha=0.8)\nax.set_title('Actual vs Forecasted Sales')\nax.set_xlabel('Date'); ax.set_ylabel('Sales'); ax.legend(); plt.show()\n"]},
  {"cell_type":"code","execution_count":null,"metadata":{},"source":["# Error distribution\nerrors = df['actual'] - df['forecast']\nplt.figure(figsize=(6,4))\nsns.histplot(errors, kde=True)\nplt.title('Forecast Error Distribution'); plt.xlabel('Error'); plt.show()\n"]},
  {"cell_type":"code","execution_count":null,"metadata":{},"source":["# Interactive monthly totals\ndf['month'] = df['date'].dt.to_period('M').dt.to_timestamp()\nmonthly = df.groupby('month').agg({'actual':'sum','forecast':'sum'}).reset_index()\nfig = px.bar(monthly, x='month', y=['actual','forecast'], barmode='group', title='Monthly Sales: Actual vs Forecast')\nfig.show()\n"]}
 ],
 "metadata": {"kernelspec":{"display_name":"Python 3","language":"python","name":"python3"},"language_info":{"name":"python","version":"3.8.0"}},
 "nbformat":4,
 "nbformat_minor":4
}
