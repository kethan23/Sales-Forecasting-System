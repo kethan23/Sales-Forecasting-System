{
 "cells": [
  {"cell_type":"markdown","metadata":{},"source":["# Linear Regression Model\n","Train/validate a baseline Linear Regression for sales forecasting."]},
  {"cell_type":"code","execution_count":null,"metadata":{},"source":["import pandas as pd\nimport numpy as np\nfrom sklearn.model_selection import train_test_split, TimeSeriesSplit, cross_val_score\nfrom sklearn.linear_model import LinearRegression\nfrom sklearn.metrics import mean_absolute_error, mean_squared_error, r2_score\n\n# Assume features engineered\n# df = pd.read_csv('features.csv')\n# For demo, regenerate similar feature set\ndates = pd.date_range('2020-01-01','2023-12-31')\nnp.random.seed(42)\ndf = pd.DataFrame({'date':dates})\ndf['y'] = np.random.normal(5000,1500,len(dates)).clip(0)\ndf['month']=df['date'].dt.month\ndf['dayofweek']=df['date'].dt.dayofweek\ndf['sin_month']=np.sin(2*np.pi*df['month']/12)\ndf['cos_month']=np.cos(2*np.pi*df['month']/12)\nfor lag in [7,30]:\n    df[f'y_lag_{lag}'] = df['y'].shift(lag)\nfor w in [7,30]:\n    df[f'y_roll_{w}'] = df['y'].rolling(w).mean()\ndf = df.dropna().reset_index(drop=True)\n\nX = df.drop(columns=['y','date'])\ny = df['y']\nX_train, X_test, y_train, y_test = train_test_split(X, y, shuffle=False, test_size=0.2)\n\nmodel = LinearRegression()\nmodel.fit(X_train, y_train)\n\npred = model.predict(X_test)\nmae = mean_absolute_error(y_test, pred)\nrmse = mean_squared_error(y_test, pred, squared=False)\nr2 = r2_score(y_test, pred)\nprint({'MAE': mae, 'RMSE': rmse, 'R2': r2})\n"]}
 ],
 "metadata": {"kernelspec":{"display_name":"Python 3","language":"python","name":"python3"},"language_info":{"name":"python","version":"3.8.0"}},
 "nbformat":4,
 "nbformat_minor":4
}
