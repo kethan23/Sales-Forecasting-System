{
 "cells": [
  {"cell_type":"markdown","metadata":{},"source":["# Sales Forecasting System - Feature Engineering\n","This notebook creates features for supervised learning models."]},
  {"cell_type":"code","execution_count":null,"metadata":{},"source":["import pandas as pd\nimport numpy as np\n\n# df = pd.read_csv('cleaned_sales_data.csv')\n# Demo dataset\ndates = pd.date_range('2020-01-01','2023-12-31')\nnp.random.seed(42)\ndf = pd.DataFrame({\n    'date':dates,\n    'sales': np.random.normal(5000,1500,len(dates)).clip(0),\n    'quantity': np.random.randint(50,500,len(dates)),\n    'price': np.random.uniform(10,100,len(dates)),\n    'region': np.random.choice(['North','South','East','West'], len(dates)),\n    'product_category': np.random.choice(['Electronics','Clothing','Food','Books'], len(dates))\n})\n"]},
  {"cell_type":"code","execution_count":null,"metadata":{},"source":["# Time-based features\ndf['date']=pd.to_datetime(df['date'])\ndf['year']=df['date'].dt.year\ndf['month']=df['date'].dt.month\ndf['dayofweek']=df['date'].dt.dayofweek\n# Seasonality encodings\ndf['sin_month']=np.sin(2*np.pi*df['month']/12)\ndf['cos_month']=np.cos(2*np.pi*df['month']/12)\n"]},
  {"cell_type":"code","execution_count":null,"metadata":{},"source":["# Lag and rolling features\ndf = df.sort_values('date')\ndf['sales_lag_7']=df['sales'].shift(7)\ndf['sales_lag_30']=df['sales'].shift(30)\ndf['sales_roll_7']=df['sales'].rolling(7).mean()\ndf['sales_roll_30']=df['sales'].rolling(30).mean()\n"]},
  {"cell_type":"code","execution_count":null,"metadata":{},"source":["# Categorical encoding\ndf = pd.get_dummies(df, columns=['region','product_category'], drop_first=True)\n# Drop NA from lags\ndf = df.dropna().reset_index(drop=True)\nprint(df.head()); print(df.shape)\n"]}
 ],
 "metadata": {"kernelspec":{"display_name":"Python 3","language":"python","name":"python3"},"language_info":{"name":"python","version":"3.8.0"}},
 "nbformat":4,
 "nbformat_minor":4
}
