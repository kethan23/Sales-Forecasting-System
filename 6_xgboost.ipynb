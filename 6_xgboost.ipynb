{
 "cells": [
  {"cell_type":"markdown","metadata":{},"source":["# XGBoost Model\n","Train and evaluate an XGBoost regressor for sales forecasting."]},
  {"cell_type":"code","execution_count":null,"metadata":{},"source":["import pandas as pd\nimport numpy as np\nfrom sklearn.model_selection import train_test_split\nfrom sklearn.metrics import mean_absolute_error, mean_squared_error, r2_score\nfrom xgboost import XGBRegressor\n\n# Demo features\ndates = pd.date_range('2020-01-01','2023-12-31')\nnp.random.seed(42)\ndf = pd.DataFrame({'date':dates})\ndf['y'] = np.random.normal(5000,1500,len(dates)).clip(0)\ndf['month']=df['date'].dt.month\ndf['dayofweek']=df['date'].dt.dayofweek\ndf['sin_month']=np.sin(2*np.pi*df['month']/12)\ndf['cos_month']=np.cos(2*np.pi*df['month']/12)\nfor lag in [7,30]:\n    df[f'y_lag_{lag}'] = df['y'].shift(lag)\nfor w in [7,30]:\n    df[f'y_roll_{w}'] = df['y'].rolling(w).mean()\ndf = df.dropna().reset_index(drop=True)\n\nX = df.drop(columns=['y','date']); y = df['y']\nX_train, X_test, y_train, y_test = train_test_split(X, y, shuffle=False, test_size=0.2)\n\nmodel = XGBRegressor(n_estimators=400, learning_rate=0.05, max_depth=6, subsample=0.9, colsample_bytree=0.9, random_state=42)\nmodel.fit(X_train, y_train)\npred = model.predict(X_test)\nmae = mean_absolute_error(y_test, pred)\nrmse = mean_squared_error(y_test, pred, squared=False)\nr2 = r2_score(y_test, pred)\nprint({'MAE': mae, 'RMSE': rmse, 'R2': r2})\n"]}
 ],
 "metadata": {"kernelspec":{"display_name":"Python 3","language":"python","name":"python3"},"language_info":{"name":"python","version":"3.8.0"}},
 "nbformat":4,
 "nbformat_minor":4
}
